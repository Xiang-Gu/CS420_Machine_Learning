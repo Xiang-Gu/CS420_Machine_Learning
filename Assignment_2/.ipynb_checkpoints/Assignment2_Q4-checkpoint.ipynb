{
 "cells": [
  {
   "cell_type": "code",
   "execution_count": 3,
   "metadata": {},
   "outputs": [
    {
     "name": "stdout",
     "output_type": "stream",
     "text": [
      "-7.09531720224365\n",
      "-11.547008809204193\n",
      "-15.591446766755709\n",
      "-20.36489369749013\n",
      "-24.659697281536392\n",
      "-29.005808820276087\n",
      "-31.635734945739713\n",
      "-36.21563856826334\n",
      "-41.60086581618939\n",
      "[-8.095317202243649, -13.547008809204193, -18.59144676675571, -24.36489369749013, -29.659697281536392, -35.00580882027609, -38.63573494573971, -44.21563856826334, -50.60086581618939]\n",
      "[-9.397902295237696, -16.152178995192287, -22.499202045737846, -29.575234069466312, -36.17262274650662, -42.82131937824036, -47.75383059669804, -54.636319312215704, -62.32413165313581]\n"
     ]
    },
    {
     "data": {
      "image/png": "[encoded data removed]",
      "text/plain": [
       "<Figure size 432x288 with 1 Axes>"
      ]
     },
     "metadata": {
      "needs_background": "light"
     },
     "output_type": "display_data"
    }
   ],
   "source": [
    "import numpy as np\n",
    "from sklearn.decomposition import FactorAnalysis\n",
    "import matplotlib.pyplot as plt\n",
    "\n",
    "np.random.seed(0)\n",
    "\n",
    "N = 100 # number of observable x's\n",
    "n = 10  # dim of observables x's\n",
    "M = 9   # try dim = m = {1,2,...,9} for latent variable y's\n",
    "sigma_squared = 0.1 # Covariance of noise vector (n-dimensional)\n",
    "\n",
    "AIC_result = []\n",
    "BIC_result = []\n",
    "# AIC_result = dict()\n",
    "# BIC_result = dict()\n",
    "\n",
    "for m in range(1, M+1):\n",
    "    # Set up parameters\n",
    "    mu_y = np.zeros(m)\n",
    "    covariance_y = np.eye(m)\n",
    "    mu_e = np.zeros(n)\n",
    "    covariance_e = np.eye(n) * sigma_squared\n",
    "    A = np.random.randn(n, m) * 10 \n",
    "\n",
    "    # Generate data\n",
    "    # sample y's from G(0, I) with dim = m\n",
    "    Y = np.random.multivariate_normal(mean=mu_y, cov=covariance_y, size=N)\n",
    "\n",
    "    # Sample noise e's from G(0, sigma^2I) with dim = n\n",
    "    E = np.random.multivariate_normal(mean=mu_e, cov=covariance_e, size=N)\n",
    "\n",
    "    # Generate observables x's from x = Ay + e\n",
    "    X = np.array([np.matmul(A, Y[i]) + E[i] for i in range(N)])\n",
    "\n",
    "    # Two-stage model selection process for BIC and AIC\n",
    "    # Stage-1: Run EM algorithm on dataset X\n",
    "    transformer = FactorAnalysis(n_components=m, random_state=0)\n",
    "    transformer.fit(X)\n",
    "    log_likelihood = transformer.score(X)\n",
    "    print(log_likelihood)\n",
    "    J_AIC = log_likelihood - m\n",
    "    J_BIC = log_likelihood - np.log(N) * m / 2\n",
    "    \n",
    "    AIC_result.append(J_AIC)\n",
    "    BIC_result.append(J_BIC)\n",
    "#     AIC_result[m] = J_AIC\n",
    "#     BIC_result[m] = J_BIC\n",
    "\n",
    "print(AIC_result)\n",
    "print(BIC_result)\n",
    "\n",
    "plt.plot(np.arange(1,M+1), AIC_result)\n",
    "plt.plot(np.arange(1,M+1), BIC_result)\n",
    "plt.show()"
   ]
  },
  {
   "cell_type": "code",
   "execution_count": null,
   "metadata": {},
   "outputs": [],
   "source": []
  }
 ],
 "metadata": {
  "kernelspec": {
   "display_name": "Python 3",
   "language": "python",
   "name": "python3"
  },
  "language_info": {
   "codemirror_mode": {
    "name": "ipython",
    "version": 3
   },
   "file_extension": ".py",
   "mimetype": "text/x-python",
   "name": "python",
   "nbconvert_exporter": "python",
   "pygments_lexer": "ipython3",
   "version": "3.6.7"
  }
 },
 "nbformat": 4,
 "nbformat_minor": 2
}
