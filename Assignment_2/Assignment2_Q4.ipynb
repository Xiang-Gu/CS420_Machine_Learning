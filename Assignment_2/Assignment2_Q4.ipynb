{
 "cells": [
  {
   "cell_type": "markdown",
   "metadata": {},
   "source": [
    "# Feature Reduction using FA\n",
    "We followed the assignment to generate artificial dataset and apply FA model to reduce the dimensionality of the observable data into various dimensions. We compare the AIC and BIC criteria to determine the best latent dimension. The result suggests when reduced dimensionality is equal to the dimensionality of the true underlying latent variable, both informatioin criteria reach their highest value."
   ]
  },
  {
   "cell_type": "code",
   "execution_count": 3,
   "metadata": {},
   "outputs": [
    {
     "data": {
      "text/plain": [
       "<matplotlib.legend.Legend at 0x7f9cc8313278>"
      ]
     },
     "execution_count": 3,
     "metadata": {},
     "output_type": "execute_result"
    },
    {
     "data": {
      "image/png": "[encoded data removed]",
      "text/plain": [
       "<Figure size 432x288 with 1 Axes>"
      ]
     },
     "metadata": {
      "needs_background": "light"
     },
     "output_type": "display_data"
    }
   ],
   "source": [
    "import numpy as np\n",
    "from sklearn.decomposition import FactorAnalysis\n",
    "import matplotlib.pyplot as plt\n",
    "\n",
    "np.random.seed(0)\n",
    "\n",
    "N = 100 # number of observable x's\n",
    "n = 10  # dim of observables x's\n",
    "true_m = 3 # dim of true underlying latent variable Y\n",
    "sigma_squared = 0.1 # Covariance of noise vector (n-dimensional)\n",
    "\n",
    "# Set up parameters\n",
    "mu_y = np.zeros(true_m)\n",
    "covariance_y = np.eye(true_m)\n",
    "mu_e = np.zeros(n)\n",
    "covariance_e = np.eye(n) * sigma_squared\n",
    "A = np.random.randn(n, true_m) * 10 \n",
    "\n",
    "# Generate data\n",
    "# sample y's from G(0, I) with dim = m\n",
    "Y = np.random.multivariate_normal(mean=mu_y, cov=covariance_y, size=N)\n",
    "\n",
    "# Sample noise e's from G(0, sigma^2I) with dim = n\n",
    "E = np.random.multivariate_normal(mean=mu_e, cov=covariance_e, size=N)\n",
    "\n",
    "# Generate observables x's from x = Ay + e\n",
    "X = np.array([np.matmul(A, Y[i]) + E[i] for i in range(N)])\n",
    "\n",
    "\n",
    "# Fit an FA model to reduce the X into latent variables of\n",
    "# different dimensionality\n",
    "AIC_result = []\n",
    "BIC_result = []\n",
    "# try dim = {1,2,...,9} for latent variable y's using FA model,\n",
    "# assuming all we have are the observables x's but nothing about y's\n",
    "M = 9   \n",
    "for m in range(1, M+1):\n",
    "    # Two-stage model selection process for BIC and AIC\n",
    "    # Stage-1: Run EM algorithm on dataset X\n",
    "    transformer = FactorAnalysis(n_components=m, random_state=0)\n",
    "    transformer.fit(X)\n",
    "    log_likelihood = transformer.score(X)\n",
    "\n",
    "    J_AIC = log_likelihood - m\n",
    "    J_BIC = log_likelihood - np.log(N) * m / 2\n",
    "    \n",
    "    AIC_result.append(J_AIC)\n",
    "    BIC_result.append(J_BIC)\n",
    "\n",
    "# Plot the results\n",
    "plt.plot(np.arange(1,M+1), AIC_result)\n",
    "plt.plot(np.arange(1,M+1), BIC_result)\n",
    "plt.legend(['AIC', 'BIC'])"
   ]
  },
  {
   "cell_type": "code",
   "execution_count": null,
   "metadata": {},
   "outputs": [],
   "source": []
  }
 ],
 "metadata": {
  "kernelspec": {
   "display_name": "Python 3",
   "language": "python",
   "name": "python3"
  },
  "language_info": {
   "codemirror_mode": {
    "name": "ipython",
    "version": 3
   },
   "file_extension": ".py",
   "mimetype": "text/x-python",
   "name": "python",
   "nbconvert_exporter": "python",
   "pygments_lexer": "ipython3",
   "version": "3.6.7"
  }
 },
 "nbformat": 4,
 "nbformat_minor": 2
}
