{
 "cells": [
  {
   "cell_type": "code",
   "execution_count": 1,
   "metadata": {},
   "outputs": [],
   "source": [
    "from sklearn.datasets import load_svmlight_file\n",
    "from sklearn import svm\n",
    "from sklearn.neural_network import MLPClassifier\n",
    "\n",
    "def get_data(data_file, n_features):\n",
    "    data = load_svmlight_file(data_file, n_features=n_features)\n",
    "    return data[0], data[1]"
   ]
  },
  {
   "cell_type": "markdown",
   "metadata": {},
   "source": [
    "## 1st dataset: the a1a dataset"
   ]
  },
  {
   "cell_type": "code",
   "execution_count": 2,
   "metadata": {},
   "outputs": [
    {
     "name": "stdout",
     "output_type": "stream",
     "text": [
      "Classification accuracy using SMV = 0.8357345910324331\n",
      "Classification accuracy using MLP = 0.8096330275229358\n"
     ]
    }
   ],
   "source": [
    "n_features = 123\n",
    "X_train, y_train = get_data(\"./datasets/question_1a/a1a\", n_features)\n",
    "X_test, y_test = get_data(\"./datasets/question_1a/a1a.t\", n_features)\n",
    "\n",
    "# Try an SVM\n",
    "clf_svm = svm.SVC(gamma='auto', random_state=1)\n",
    "clf_svm.fit(X_train, y_train)\n",
    "acc_svm = clf_svm.score(X_test, y_test)\n",
    "print('Classification accuracy using SMV = ' + str(acc_svm))\n",
    "\n",
    "# Try an MLP (Multi-layer Perceptron)\n",
    "clf_MLP = MLPClassifier(hidden_layer_sizes=(10, 5), max_iter=800, random_state=1)\n",
    "clf_MLP.fit(X_train, y_train)\n",
    "acc_MLP = clf_MLP.score(X_test, y_test)\n",
    "print('Classification accuracy using MLP = ' + str(acc_MLP))"
   ]
  },
  {
   "cell_type": "markdown",
   "metadata": {},
   "source": [
    "## 2nd dataset: the w8a dataset"
   ]
  },
  {
   "cell_type": "code",
   "execution_count": 3,
   "metadata": {},
   "outputs": [
    {
     "name": "stdout",
     "output_type": "stream",
     "text": [
      "Classification accuracy using SMV = 0.9744498695739415\n",
      "Classification accuracy using MLP = 0.9944485318707779\n"
     ]
    }
   ],
   "source": [
    "n_features = 300\n",
    "X_train, y_train = get_data(\"./datasets/question_1a/w8a\", n_features)\n",
    "X_test, y_test = get_data(\"./datasets/question_1a/w8a.t\", n_features)\n",
    "\n",
    "# Try an SVM\n",
    "clf_svm = svm.SVC(gamma='auto', random_state=1)\n",
    "clf_svm.fit(X_train, y_train)\n",
    "acc_svm = clf_svm.score(X_test, y_test)\n",
    "print('Classification accuracy using SMV = ' + str(acc_svm))\n",
    "\n",
    "# Try an MLP (Multi-layer Perceptron)\n",
    "clf_MLP = MLPClassifier(hidden_layer_sizes=(100, 10), max_iter=800, random_state=1)\n",
    "clf_MLP.fit(X_train, y_train)\n",
    "acc_MLP = clf_MLP.score(X_test, y_test)\n",
    "print('Classification accuracy using MLP = ' + str(acc_MLP))"
   ]
  },
  {
   "cell_type": "code",
   "execution_count": null,
   "metadata": {},
   "outputs": [],
   "source": []
  },
  {
   "cell_type": "code",
   "execution_count": null,
   "metadata": {},
   "outputs": [],
   "source": []
  }
 ],
 "metadata": {
  "kernelspec": {
   "display_name": "Python 3",
   "language": "python",
   "name": "python3"
  },
  "language_info": {
   "codemirror_mode": {
    "name": "ipython",
    "version": 3
   },
   "file_extension": ".py",
   "mimetype": "text/x-python",
   "name": "python",
   "nbconvert_exporter": "python",
   "pygments_lexer": "ipython3",
   "version": "3.6.7"
  }
 },
 "nbformat": 4,
 "nbformat_minor": 2
}
