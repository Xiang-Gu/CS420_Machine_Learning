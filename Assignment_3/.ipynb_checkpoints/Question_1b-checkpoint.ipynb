{
 "cells": [
  {
   "cell_type": "markdown",
   "metadata": {},
   "source": [
    "## The CIFAR-10 Dataset with SVM"
   ]
  },
  {
   "cell_type": "code",
   "execution_count": null,
   "metadata": {},
   "outputs": [],
   "source": [
    "from sklearn import svm\n",
    "import numpy as np\n",
    "\n",
    "def unpickle(file):\n",
    "    import pickle\n",
    "    with open(file, 'rb') as fo:\n",
    "        dict = pickle.load(fo, encoding='bytes')\n",
    "    return dict\n",
    "\n",
    "# Load training data\n",
    "X_train = np.zeros((10000, 3072))\n",
    "y_train = np.zeros(10000)\n",
    "for batch_num in range(1, 2):\n",
    "    d = unpickle('./datasets/question_1b/cifar-10-batches-py/data_batch_' + str(batch_num))\n",
    "    X_train[(batch_num-1) * 10000 : batch_num * 10000] = d[b'data']\n",
    "    y_train[(batch_num-1) * 10000 : batch_num * 10000] = d[b'labels']\n",
    "\n",
    "# Load test data\n",
    "d = unpickle('./datasets/question_1b/cifar-10-batches-py/test_batch')\n",
    "X_test = d[b'data']\n",
    "y_test = np.array(d[b'labels'])\n",
    "\n",
    "print(X_train.shape)\n",
    "print(y_train.shape)\n",
    "print(X_test.shape)\n",
    "print(y_test.shape)\n",
    "\n",
    "# Try SVM\n",
    "clf_svm = svm.LinearSVC(C=0.1, random_state=1)\n",
    "clf_svm.fit(X_train, y_train)\n",
    "print('Finished Trianing')\n",
    "acc_svm = clf_svm.score(X_test[0:1000], y_test[0:1000])\n",
    "print('Classification accuracy using SMV = ' + str(acc_svm))\n"
   ]
  },
  {
   "cell_type": "code",
   "execution_count": null,
   "metadata": {},
   "outputs": [],
   "source": []
  }
 ],
 "metadata": {
  "kernelspec": {
   "display_name": "Python 3",
   "language": "python",
   "name": "python3"
  },
  "language_info": {
   "codemirror_mode": {
    "name": "ipython",
    "version": 3
   },
   "file_extension": ".py",
   "mimetype": "text/x-python",
   "name": "python",
   "nbconvert_exporter": "python",
   "pygments_lexer": "ipython3",
   "version": "3.6.7"
  }
 },
 "nbformat": 4,
 "nbformat_minor": 2
}
